{
 "cells": [
  {
   "cell_type": "markdown",
   "id": "9daaa49a-ee7e-4de6-9c9d-92fda1545c86",
   "metadata": {},
   "source": [
    "# Caluladora IMB (Indice de Massa Corporal)\n"
   ]
  },
  {
   "cell_type": "code",
   "execution_count": 42,
   "id": "1d3b4e56-f9b9-49ea-8c45-a4f8247c332e",
   "metadata": {},
   "outputs": [
    {
     "name": "stdin",
     "output_type": "stream",
     "text": [
      "Digite seu nome Alan\n",
      "Digite seu peso em kg: 75\n",
      "Digite sua altura em cm: 190\n"
     ]
    },
    {
     "name": "stdout",
     "output_type": "stream",
     "text": [
      "0.002077562326869806\n",
      "Alan Você está abaixo do peso.\n"
     ]
    }
   ],
   "source": [
    "name = input(\"Digite seu nome\")\n",
    "peso = float(input(\"Digite seu peso em kg:\"))\n",
    "\n",
    "altura = float(input(\"Digite sua altura em cm:\"))\n",
    "\n",
    "IMC=(peso   ) / (altura * altura) \n",
    "print(IMC)\n",
    "\n",
    "if IMC>0:\n",
    "    if(IMC < 18.5):\n",
    "        print(name  +  \" Você está abaixo do peso.\")\n",
    "    elif(IMC<=24.9):\n",
    "        print( name  +  \" Você está com o peso normal\")\n",
    "    elif(IMC<=29.9):\n",
    "        print(name  +  \" Você está acima do peso\")\n",
    "    elif(IMC<=34.9):\n",
    "        print(name +  \" VocÊ está severamente obeso.\")\n",
    "    elif(IMC<=39.9):\n",
    "        print(name  +  \" Você está obeso morbido\")\n",
    "else:\n",
    "    print(\"Entre com input válido\")"
   ]
  },
  {
   "cell_type": "markdown",
   "id": "63a70aeb-86a5-4c9a-b5dc-1447e2b19178",
   "metadata": {},
   "source": []
  },
  {
   "cell_type": "code",
   "execution_count": null,
   "id": "a4e445b4-2583-48aa-b6e3-6aba83185bd1",
   "metadata": {},
   "outputs": [],
   "source": []
  },
  {
   "cell_type": "code",
   "execution_count": 40,
   "id": "884bf199-7d60-4990-b8a0-6bbeaaa78fac",
   "metadata": {},
   "outputs": [
    {
     "name": "stdout",
     "output_type": "stream",
     "text": [
      "Alan Você está acima do peso\n"
     ]
    }
   ],
   "source": [
    "\n"
   ]
  },
  {
   "cell_type": "code",
   "execution_count": 25,
   "id": "85edb1e2-3fad-411c-8fee-816e209272bf",
   "metadata": {},
   "outputs": [
    {
     "data": {
      "text/plain": [
       "'abaixo 18.5 --> abaixo do peso mininmo\\n18.5 - 24.9 --> Minimo para o peso normal\\n25 - 29.9 --> sobrepeso aumentou\\n30 - 14.9 --> obeso alto\\n35 - 39.9 --> obeso evero muito alto\\n40 e utrapassando Morbidade obeso extremamente alto'"
      ]
     },
     "execution_count": 25,
     "metadata": {},
     "output_type": "execute_result"
    }
   ],
   "source": [
    "\"\"\"abaixo 18.5 --> abaixo do peso mininmo\n",
    "18.5 - 24.9 --> Minimo para o peso normal\n",
    "25 - 29.9 --> sobrepeso aumentou\n",
    "30 - 14.9 --> obeso alto\n",
    "35 - 39.9 --> obeso evero muito alto\n",
    "40 e utrapassando Morbidade obeso extremamente alto\"\"\""
   ]
  }
 ],
 "metadata": {
  "kernelspec": {
   "display_name": "Python 3 (ipykernel)",
   "language": "python",
   "name": "python3"
  },
  "language_info": {
   "codemirror_mode": {
    "name": "ipython",
    "version": 3
   },
   "file_extension": ".py",
   "mimetype": "text/x-python",
   "name": "python",
   "nbconvert_exporter": "python",
   "pygments_lexer": "ipython3",
   "version": "3.10.10"
  }
 },
 "nbformat": 4,
 "nbformat_minor": 5
}
