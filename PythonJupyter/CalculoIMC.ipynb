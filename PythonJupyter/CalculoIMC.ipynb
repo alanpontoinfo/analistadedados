{
 "cells": [
  {
   "cell_type": "markdown",
   "id": "9daaa49a-ee7e-4de6-9c9d-92fda1545c86",
   "metadata": {},
   "source": [
    "# Caluladora IMC (Indice de Massa Corporal)\n"
   ]
  },
  {
   "cell_type": "code",
   "execution_count": 3,
   "id": "1d3b4e56-f9b9-49ea-8c45-a4f8247c332e",
   "metadata": {},
   "outputs": [
    {
     "name": "stdout",
     "output_type": "stream",
     "text": [
      "24.930747922437675\n",
      "alan Você está acima do peso\n"
     ]
    }
   ],
   "source": [
    "name = input(\"Digite seu nome\")\n",
    "peso = float(input(\"Digite seu peso em kg:\"))\n",
    "\n",
    "altura = float(input(\"Digite sua altura em cm:\"))\n",
    "\n",
    "IMC=(peso) / (altura * altura) \n",
    "print(IMC)\n",
    "\n",
    "if IMC>0:\n",
    "    if(IMC < 18.5):\n",
    "        print(name  +  \" Você está abaixo do peso.\")\n",
    "    elif(IMC<=24.9):\n",
    "        print( name  +  \" Você está com o peso normal\")\n",
    "    elif(IMC<=29.9):\n",
    "        print(name  +  \" Você está acima do peso\")\n",
    "    elif(IMC<=34.9):\n",
    "        print(name +  \" VocÊ está severamente obeso.\")\n",
    "    elif(IMC<=39.9):\n",
    "        print(name  +  \" Você está obeso morbido\")\n",
    "else:\n",
    "    print(\"Entre com input válido\")"
   ]
  },
  {
   "cell_type": "code",
   "execution_count": null,
   "id": "85edb1e2-3fad-411c-8fee-816e209272bf",
   "metadata": {},
   "outputs": [],
   "source": [
    "\"\"\"abaixo 18.5 --> abaixo do peso mininmo\n",
    "18.5 - 24.9 --> Minimo para o peso normal\n",
    "25 - 29.9 --> sobrepeso aumentou\n",
    "30 - 14.9 --> obeso alto\n",
    "35 - 39.9 --> obeso severo muito alto\n",
    "40 e utrapassando Morbidade obeso extremamente alto\"\"\""
   ]
  }
 ],
 "metadata": {
  "kernelspec": {
   "display_name": "Python 3 (ipykernel)",
   "language": "python",
   "name": "python3"
  },
  "language_info": {
   "codemirror_mode": {
    "name": "ipython",
    "version": 3
   },
   "file_extension": ".py",
   "mimetype": "text/x-python",
   "name": "python",
   "nbconvert_exporter": "python",
   "pygments_lexer": "ipython3",
   "version": "3.10.10"
  }
 },
 "nbformat": 4,
 "nbformat_minor": 5
}
