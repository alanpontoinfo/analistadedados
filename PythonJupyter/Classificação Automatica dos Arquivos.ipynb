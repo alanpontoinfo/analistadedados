{
 "cells": [
  {
   "cell_type": "markdown",
   "id": "54c4d47c-3b35-4e4e-96b1-13c99ad31a45",
   "metadata": {},
   "source": [
    "# Classificação Automática dos Arquivos no Explorador de Arquivos"
   ]
  },
  {
   "cell_type": "code",
   "execution_count": 2,
   "id": "6ef7921e-5536-4110-91c9-366ac09960d5",
   "metadata": {},
   "outputs": [],
   "source": [
    "import os, shutil"
   ]
  },
  {
   "cell_type": "code",
   "execution_count": 1,
   "id": "4ff2a3f9-a3cf-4474-879c-d70606704d2d",
   "metadata": {},
   "outputs": [],
   "source": [
    "path=r\"C:/Users/aj2co/projetos2023\\dev/analistadedados/Pythonjupyter/files/\""
   ]
  },
  {
   "cell_type": "code",
   "execution_count": 4,
   "id": "d6f741f3-7db2-4928-9e18-e83dbd8859aa",
   "metadata": {},
   "outputs": [],
   "source": [
    "nome_arquivo=os.listdir(path)"
   ]
  },
  {
   "cell_type": "code",
   "execution_count": 5,
   "id": "cb95879a-58ae-4901-b2db-92403d85b7bc",
   "metadata": {},
   "outputs": [
    {
     "name": "stdout",
     "output_type": "stream",
     "text": [
      "C:/Users/aj2co/projetos2023\\dev/analistadedados/Pythonjupyter/files/xlsx files\n",
      "C:/Users/aj2co/projetos2023\\dev/analistadedados/Pythonjupyter/files/jpg files\n",
      "C:/Users/aj2co/projetos2023\\dev/analistadedados/Pythonjupyter/files/png files\n",
      "C:/Users/aj2co/projetos2023\\dev/analistadedados/Pythonjupyter/files/txt files\n"
     ]
    }
   ],
   "source": [
    "nomes_pastas = ['xlsx files', 'jpg files', 'png files', 'txt files']\n",
    "\n",
    "for loop in range(0,4):\n",
    "    if not os.path.exists(path + nomes_pastas[loop]):\n",
    "        print(path + nomes_pastas[loop])\n",
    "        os.makedirs(path + nomes_pastas[loop])\n",
    "\n",
    "for arquivo in nome_arquivo:\n",
    "    if \".xlsx\" in arquivo and not os.path.exists(path + \"xlsx files/\" + arquivo):\n",
    "        shutil.move(path + arquivo, path + \"xlsx files/\" + arquivo)\n",
    "    elif \".jpg\" in arquivo and not os.path.exists(path + \"jpg files/\" + arquivo):\n",
    "        shutil.move(path + arquivo, path + \"jpg files/\" + arquivo)\n",
    "    elif \".png\" in arquivo and not os.path.exists(path + \"png files/\" + arquivo):\n",
    "        shutil.move(path + arquivo, path + \"png files/\" + arquivo)\n",
    "    elif \".txt\" in arquivo and not os.path.exists(path + \"txt files/\" + arquivo):\n",
    "        shutil.move(path + arquivo, path + \"txt files/\" + arquivo)\n",
    "\n",
    "        "
   ]
  },
  {
   "cell_type": "code",
   "execution_count": null,
   "id": "ec3cda33-0830-404b-90e1-a7364d412e30",
   "metadata": {},
   "outputs": [],
   "source": []
  },
  {
   "cell_type": "code",
   "execution_count": null,
   "id": "d5720787-77bc-45e1-9273-09dd38c084ad",
   "metadata": {},
   "outputs": [],
   "source": []
  },
  {
   "cell_type": "code",
   "execution_count": null,
   "id": "1db36288-b29e-4255-8834-2734d6fdfa7f",
   "metadata": {},
   "outputs": [],
   "source": []
  }
 ],
 "metadata": {
  "kernelspec": {
   "display_name": "Python 3 (ipykernel)",
   "language": "python",
   "name": "python3"
  },
  "language_info": {
   "codemirror_mode": {
    "name": "ipython",
    "version": 3
   },
   "file_extension": ".py",
   "mimetype": "text/x-python",
   "name": "python",
   "nbconvert_exporter": "python",
   "pygments_lexer": "ipython3",
   "version": "3.10.10"
  }
 },
 "nbformat": 4,
 "nbformat_minor": 5
}
