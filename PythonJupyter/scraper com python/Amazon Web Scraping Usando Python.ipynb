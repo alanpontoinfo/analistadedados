{
 "cells": [
  {
   "cell_type": "markdown",
   "id": "289473e8-da50-4738-8036-1661007321d8",
   "metadata": {},
   "source": [
    "#  Amazon Web Scraping Usando Python "
   ]
  },
  {
   "cell_type": "code",
   "execution_count": null,
   "id": "eec6534b-1d12-4f37-9747-3077ddc25e04",
   "metadata": {},
   "outputs": [],
   "source": [
    "#pip install beautifulsoup"
   ]
  },
  {
   "cell_type": "code",
   "execution_count": 1,
   "id": "2c60d642-38f1-4248-bbce-17a8ad624e18",
   "metadata": {},
   "outputs": [],
   "source": [
    "from bs4 import BeautifulSoup\n",
    "import requests\n",
    "import smtplib\n",
    "import time\n",
    "import datetime"
   ]
  },
  {
   "cell_type": "code",
   "execution_count": 3,
   "id": "5bc61dcc-21fd-404e-ad54-45fc4781d36b",
   "metadata": {},
   "outputs": [
    {
     "name": "stdout",
     "output_type": "stream",
     "text": [
      "\n",
      "                    Funny Got Data MIS Data Systems Business Analyst T-Shirt\n",
      "                   \n",
      "\n",
      "                    $16.99\n",
      "                   \n"
     ]
    }
   ],
   "source": [
    "#conectando ao website\n",
    "URL='https://www.amazon.com/Funny-Data-Systems-Business-Analyst/dp/B07FNW9FGJ/ref=sr_1_5?crid=2VCI3HVARHBJ7&dib=eyJ2IjoiMSJ9.PM2zhQFx_lfPnddZwr05DvJ8zxTiKbMNof3H_8ObTes8YarT96m4jiSWTM-p0IE3duwe6IsAvFH9zcr6W1KCx6CqOr-54IN7W4NEt9Zjyf0JkKbOy0vvprR8W9_RNjav5-Lj-jGj28CVCiGI0M4MqVI1Dce95Lisa9_HkEs-HwHhQQZ4H6sj_IGDwRetBB-MHRgDm2_zkwSFDyE9xv58B1gfsgct16JSRTRidkD67jVKYMfjWSF25FqYEBIDbFIrZipoxIFEP6QTdRVWFKmxZ7rHpO4oTaApPWL8a6ssrR8.wGJfiagFynIEQoDtczschUT54ejoUOkoiNmOUjVqyDk&dib_tag=se&keywords=data%2Banalyst%2Btshirt&qid=1720869625&sprefix=data%2Banalyst%2Btshirt%2Caps%2C232&sr=8-5'\n",
    "\n",
    "\n",
    "\n",
    "\n",
    "headers = {\"User-Agent\": \"Mozilla/5.0 (Windows NT 10.0; Win64; x64) AppleWebKit/537.36 (KHTML, like Gecko) Chrome/78.0.3904.108 Safari/537.36\", \"Accept-Encoding\":\"gzip, deflate\", \"Accept\":\"text/html,application/xhtml+xml,application/xml;q=0.9,*/*;q=0.8\", \"DNT\":\"1\",\"Connection\":\"close\", \"Upgrade-Insecure-Requests\":\"1\"}\n",
    "\n",
    "page = requests.get(URL, headers=headers)\n",
    "\n",
    "soup1 = BeautifulSoup(page.content, \"html.parser\")\n",
    "\n",
    "soup2 = BeautifulSoup(soup1.prettify(), \"html.parser\")\n",
    "\n",
    "title = soup2.find(id='productTitle').get_text()\n",
    "\n",
    "price = soup2.find('span',{'class':'aok-offscreen'}).get_text()\n",
    "\n",
    "\n",
    "print(title)\n",
    "print(price)"
   ]
  },
  {
   "cell_type": "code",
   "execution_count": 5,
   "id": "42843c14-a236-40b6-9c12-f23d285eb599",
   "metadata": {},
   "outputs": [
    {
     "name": "stdout",
     "output_type": "stream",
     "text": [
      "Funny Got Data MIS Data Systems Business Analyst T-Shirt\n",
      "16.99\n"
     ]
    }
   ],
   "source": [
    "title=title.strip()\n",
    "price=price.strip()[1:]\n",
    "\n",
    "print(title)\n",
    "print(price)\n"
   ]
  },
  {
   "cell_type": "code",
   "execution_count": 41,
   "id": "03ef7232-2191-4f12-9295-43baff9c609c",
   "metadata": {},
   "outputs": [
    {
     "name": "stdout",
     "output_type": "stream",
     "text": [
      "2024-07-13\n"
     ]
    }
   ],
   "source": [
    "import datetime\n",
    "\n",
    "today=datetime.date.today()\n",
    "print(today)"
   ]
  },
  {
   "cell_type": "code",
   "execution_count": null,
   "id": "77c4c286-953e-4494-8e6c-905d3b8d18fa",
   "metadata": {},
   "outputs": [],
   "source": [
    "import csv\n",
    "header = ['Title', 'Price','Date']\n",
    "data = [title, price, today]\n",
    "\n",
    "#with open('AmazonScraperWebDataset.csv', 'w', newline='', encoding='UTF8') as f:\n",
    " #    writer = csv.writer(f)\n",
    "  #   writer.writerow(header)\n",
    "   #  writer.writerow(data)"
   ]
  },
  {
   "cell_type": "code",
   "execution_count": 2,
   "id": "21f0c7e2-a22e-4dff-8d8b-80c76284d643",
   "metadata": {},
   "outputs": [
    {
     "data": {
      "text/html": [
       "<div>\n",
       "<style scoped>\n",
       "    .dataframe tbody tr th:only-of-type {\n",
       "        vertical-align: middle;\n",
       "    }\n",
       "\n",
       "    .dataframe tbody tr th {\n",
       "        vertical-align: top;\n",
       "    }\n",
       "\n",
       "    .dataframe thead th {\n",
       "        text-align: right;\n",
       "    }\n",
       "</style>\n",
       "<table border=\"1\" class=\"dataframe\">\n",
       "  <thead>\n",
       "    <tr style=\"text-align: right;\">\n",
       "      <th></th>\n",
       "      <th>Title</th>\n",
       "      <th>Price</th>\n",
       "      <th>Date</th>\n",
       "    </tr>\n",
       "  </thead>\n",
       "  <tbody>\n",
       "    <tr>\n",
       "      <th>0</th>\n",
       "      <td>Funny Got Data MIS Data Systems Business Analy...</td>\n",
       "      <td>16.99</td>\n",
       "      <td>2024-07-13</td>\n",
       "    </tr>\n",
       "    <tr>\n",
       "      <th>1</th>\n",
       "      <td>Funny Got Data MIS Data Systems Business Analy...</td>\n",
       "      <td>16.99</td>\n",
       "      <td>2024-07-13</td>\n",
       "    </tr>\n",
       "    <tr>\n",
       "      <th>2</th>\n",
       "      <td>Funny Got Data MIS Data Systems Business Analy...</td>\n",
       "      <td>16.99</td>\n",
       "      <td>2024-07-13</td>\n",
       "    </tr>\n",
       "    <tr>\n",
       "      <th>3</th>\n",
       "      <td>Funny Got Data MIS Data Systems Business Analy...</td>\n",
       "      <td>16.99</td>\n",
       "      <td>2024-07-13</td>\n",
       "    </tr>\n",
       "    <tr>\n",
       "      <th>4</th>\n",
       "      <td>Funny Got Data MIS Data Systems Business Analy...</td>\n",
       "      <td>16.99</td>\n",
       "      <td>2024-07-13</td>\n",
       "    </tr>\n",
       "    <tr>\n",
       "      <th>5</th>\n",
       "      <td>Funny Got Data MIS Data Systems Business Analy...</td>\n",
       "      <td>16.99</td>\n",
       "      <td>2024-07-13</td>\n",
       "    </tr>\n",
       "    <tr>\n",
       "      <th>6</th>\n",
       "      <td>Funny Got Data MIS Data Systems Business Analy...</td>\n",
       "      <td>16.99</td>\n",
       "      <td>2024-07-13</td>\n",
       "    </tr>\n",
       "    <tr>\n",
       "      <th>7</th>\n",
       "      <td>Funny Got Data MIS Data Systems Business Analy...</td>\n",
       "      <td>16.99</td>\n",
       "      <td>2024-07-13</td>\n",
       "    </tr>\n",
       "    <tr>\n",
       "      <th>8</th>\n",
       "      <td>Funny Got Data MIS Data Systems Business Analy...</td>\n",
       "      <td>16.99</td>\n",
       "      <td>2024-07-13</td>\n",
       "    </tr>\n",
       "    <tr>\n",
       "      <th>9</th>\n",
       "      <td>Funny Got Data MIS Data Systems Business Analy...</td>\n",
       "      <td>16.99</td>\n",
       "      <td>2024-07-13</td>\n",
       "    </tr>\n",
       "  </tbody>\n",
       "</table>\n",
       "</div>"
      ],
      "text/plain": [
       "                                               Title  Price        Date\n",
       "0  Funny Got Data MIS Data Systems Business Analy...  16.99  2024-07-13\n",
       "1  Funny Got Data MIS Data Systems Business Analy...  16.99  2024-07-13\n",
       "2  Funny Got Data MIS Data Systems Business Analy...  16.99  2024-07-13\n",
       "3  Funny Got Data MIS Data Systems Business Analy...  16.99  2024-07-13\n",
       "4  Funny Got Data MIS Data Systems Business Analy...  16.99  2024-07-13\n",
       "5  Funny Got Data MIS Data Systems Business Analy...  16.99  2024-07-13\n",
       "6  Funny Got Data MIS Data Systems Business Analy...  16.99  2024-07-13\n",
       "7  Funny Got Data MIS Data Systems Business Analy...  16.99  2024-07-13\n",
       "8  Funny Got Data MIS Data Systems Business Analy...  16.99  2024-07-13\n",
       "9  Funny Got Data MIS Data Systems Business Analy...  16.99  2024-07-13"
      ]
     },
     "execution_count": 2,
     "metadata": {},
     "output_type": "execute_result"
    }
   ],
   "source": [
    "import pandas as pd\n",
    "df= pd.read_csv(r\"C:\\Users\\aj2co\\projetos2023\\dev\\analistadedados\\Pythonjupyter\\scraper com python\\AmazonScraperWebDataset.csv\")\n",
    "df"
   ]
  },
  {
   "cell_type": "code",
   "execution_count": 47,
   "id": "8d851db3-5cbe-493c-8c38-c9627211f968",
   "metadata": {},
   "outputs": [],
   "source": [
    "#agora estamos acrescentando dados\n",
    "\n",
    "with open('AmazonScraperWebDataset.csv', 'a+', newline='', encoding='UTF8') as f:\n",
    "     writer = csv.writer(f)\n",
    "     writer.writerow(data)\n",
    "    "
   ]
  },
  {
   "cell_type": "code",
   "execution_count": 36,
   "id": "3444a34d-dfb5-489b-bd20-c88c47703e02",
   "metadata": {},
   "outputs": [],
   "source": [
    "def check_price():\n",
    "#conectando ao website\n",
    "    URL='https://www.amazon.com/Funny-Data-Systems-Business-Analyst/dp/B07FNW9FGJ/ref=sr_1_5?crid=2VCI3HVARHBJ7&dib=eyJ2IjoiMSJ9.PM2zhQFx_lfPnddZwr05DvJ8zxTiKbMNof3H_8ObTes8YarT96m4jiSWTM-p0IE3duwe6IsAvFH9zcr6W1KCx6CqOr-54IN7W4NEt9Zjyf0JkKbOy0vvprR8W9_RNjav5-Lj-jGj28CVCiGI0M4MqVI1Dce95Lisa9_HkEs-HwHhQQZ4H6sj_IGDwRetBB-MHRgDm2_zkwSFDyE9xv58B1gfsgct16JSRTRidkD67jVKYMfjWSF25FqYEBIDbFIrZipoxIFEP6QTdRVWFKmxZ7rHpO4oTaApPWL8a6ssrR8.wGJfiagFynIEQoDtczschUT54ejoUOkoiNmOUjVqyDk&dib_tag=se&keywords=data%2Banalyst%2Btshirt&qid=1720869625&sprefix=data%2Banalyst%2Btshirt%2Caps%2C232&sr=8-5'\n",
    "\n",
    "\n",
    "\n",
    "\n",
    "    headers = {\"User-Agent\": \"Mozilla/5.0 (Windows NT 10.0; Win64; x64) AppleWebKit/537.36 (KHTML, like Gecko) Chrome/78.0.3904.108 Safari/537.36\", \"Accept-Encoding\":\"gzip, deflate\", \"Accept\":\"text/html,application/xhtml+xml,application/xml;q=0.9,*/*;q=0.8\", \"DNT\":\"1\",\"Connection\":\"close\", \"Upgrade-Insecure-Requests\":\"1\"}\n",
    "\n",
    "    page = requests.get(URL, headers=headers)\n",
    "\n",
    "    soup1 = BeautifulSoup(page.content, \"html.parser\")\n",
    "\n",
    "    soup2 = BeautifulSoup(soup1.prettify(), \"html.parser\")\n",
    "\n",
    "    title = soup2.find(id='productTitle').get_text()\n",
    "\n",
    "    price = soup2.find('span',{'class':'aok-offscreen'}).get_text()\n",
    "\n",
    "    title=title.strip()\n",
    "    price=price.strip()[1:]\n",
    "\n",
    "    import datetime\n",
    "    today=datetime.date.today()\n",
    "   # print(today)\n",
    "\n",
    "    import csv\n",
    "    header = ['Title', 'Price','Date']\n",
    "    data = [title, price, today]\n",
    "\n",
    "    with open('AmazonScraperWebDataset.csv', 'a+', newline='', encoding='UTF8') as f:\n",
    "         writer = csv.writer(f)\n",
    "   #  writer.writerow(header)\n",
    "         writer.writerow(data)\n",
    "\n",
    "     #if(price < 14):\n",
    "         #send_mail()\n"
   ]
  },
  {
   "cell_type": "code",
   "execution_count": null,
   "id": "ba4e1f67-88d4-4a4b-b658-42f1def248df",
   "metadata": {},
   "outputs": [],
   "source": [
    "while(True):\n",
    "    check_price()\n",
    "    time.sleep(86400)"
   ]
  },
  {
   "cell_type": "code",
   "execution_count": 50,
   "id": "595f3791-b5cf-4c76-b1e1-c06f7334a6c6",
   "metadata": {},
   "outputs": [
    {
     "data": {
      "text/html": [
       "<div>\n",
       "<style scoped>\n",
       "    .dataframe tbody tr th:only-of-type {\n",
       "        vertical-align: middle;\n",
       "    }\n",
       "\n",
       "    .dataframe tbody tr th {\n",
       "        vertical-align: top;\n",
       "    }\n",
       "\n",
       "    .dataframe thead th {\n",
       "        text-align: right;\n",
       "    }\n",
       "</style>\n",
       "<table border=\"1\" class=\"dataframe\">\n",
       "  <thead>\n",
       "    <tr style=\"text-align: right;\">\n",
       "      <th></th>\n",
       "      <th>Title</th>\n",
       "      <th>Price</th>\n",
       "      <th>Date</th>\n",
       "    </tr>\n",
       "  </thead>\n",
       "  <tbody>\n",
       "    <tr>\n",
       "      <th>0</th>\n",
       "      <td>Funny Got Data MIS Data Systems Business Analy...</td>\n",
       "      <td>16.99</td>\n",
       "      <td>2024-07-13</td>\n",
       "    </tr>\n",
       "    <tr>\n",
       "      <th>1</th>\n",
       "      <td>Funny Got Data MIS Data Systems Business Analy...</td>\n",
       "      <td>16.99</td>\n",
       "      <td>2024-07-13</td>\n",
       "    </tr>\n",
       "    <tr>\n",
       "      <th>2</th>\n",
       "      <td>Funny Got Data MIS Data Systems Business Analy...</td>\n",
       "      <td>16.99</td>\n",
       "      <td>2024-07-13</td>\n",
       "    </tr>\n",
       "    <tr>\n",
       "      <th>3</th>\n",
       "      <td>Funny Got Data MIS Data Systems Business Analy...</td>\n",
       "      <td>16.99</td>\n",
       "      <td>2024-07-13</td>\n",
       "    </tr>\n",
       "    <tr>\n",
       "      <th>4</th>\n",
       "      <td>Funny Got Data MIS Data Systems Business Analy...</td>\n",
       "      <td>16.99</td>\n",
       "      <td>2024-07-13</td>\n",
       "    </tr>\n",
       "    <tr>\n",
       "      <th>5</th>\n",
       "      <td>Funny Got Data MIS Data Systems Business Analy...</td>\n",
       "      <td>16.99</td>\n",
       "      <td>2024-07-13</td>\n",
       "    </tr>\n",
       "    <tr>\n",
       "      <th>6</th>\n",
       "      <td>Funny Got Data MIS Data Systems Business Analy...</td>\n",
       "      <td>16.99</td>\n",
       "      <td>2024-07-13</td>\n",
       "    </tr>\n",
       "    <tr>\n",
       "      <th>7</th>\n",
       "      <td>Funny Got Data MIS Data Systems Business Analy...</td>\n",
       "      <td>16.99</td>\n",
       "      <td>2024-07-13</td>\n",
       "    </tr>\n",
       "    <tr>\n",
       "      <th>8</th>\n",
       "      <td>Funny Got Data MIS Data Systems Business Analy...</td>\n",
       "      <td>16.99</td>\n",
       "      <td>2024-07-13</td>\n",
       "    </tr>\n",
       "  </tbody>\n",
       "</table>\n",
       "</div>"
      ],
      "text/plain": [
       "                                               Title  Price        Date\n",
       "0  Funny Got Data MIS Data Systems Business Analy...  16.99  2024-07-13\n",
       "1  Funny Got Data MIS Data Systems Business Analy...  16.99  2024-07-13\n",
       "2  Funny Got Data MIS Data Systems Business Analy...  16.99  2024-07-13\n",
       "3  Funny Got Data MIS Data Systems Business Analy...  16.99  2024-07-13\n",
       "4  Funny Got Data MIS Data Systems Business Analy...  16.99  2024-07-13\n",
       "5  Funny Got Data MIS Data Systems Business Analy...  16.99  2024-07-13\n",
       "6  Funny Got Data MIS Data Systems Business Analy...  16.99  2024-07-13\n",
       "7  Funny Got Data MIS Data Systems Business Analy...  16.99  2024-07-13\n",
       "8  Funny Got Data MIS Data Systems Business Analy...  16.99  2024-07-13"
      ]
     },
     "execution_count": 50,
     "metadata": {},
     "output_type": "execute_result"
    }
   ],
   "source": [
    "import pandas as pd\n",
    "df= pd.read_csv(r\"C:\\Users\\aj2co\\projetos2023\\dev\\analistadedados\\Pythonjupyter\\scraper com python\\AmazonScraperWebDataset.csv\")\n",
    "df"
   ]
  },
  {
   "cell_type": "code",
   "execution_count": null,
   "id": "6382529b-93bb-4ad9-a3a4-8c0000cf4a03",
   "metadata": {},
   "outputs": [],
   "source": [
    "def send_email():\n",
    "    server = smtplib.SMTP_SSL('smtp.gmail.com', 465)\n",
    "    server.ehlo()\n",
    "    #sever.starttls()\n",
    "    server.ehlo()\n",
    "    server.login('alanpontoinfo@gmai.com','passord')\n",
    "    subject ='escreve o assunto'\n",
    "    body= 'Escreve mensagem'\n",
    "\n",
    "    msg = f\"subject: {subject}\\n\\n{body}\"\n",
    "\n",
    "    server.sendmail(\n",
    "    'alanpontoinfo@gmail.com',\n",
    "    msg\n",
    "    )"
   ]
  }
 ],
 "metadata": {
  "kernelspec": {
   "display_name": "Python 3 (ipykernel)",
   "language": "python",
   "name": "python3"
  },
  "language_info": {
   "codemirror_mode": {
    "name": "ipython",
    "version": 3
   },
   "file_extension": ".py",
   "mimetype": "text/x-python",
   "name": "python",
   "nbconvert_exporter": "python",
   "pygments_lexer": "ipython3",
   "version": "3.10.10"
  }
 },
 "nbformat": 4,
 "nbformat_minor": 5
}
